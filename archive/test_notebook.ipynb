{
 "cells": [
  {
   "cell_type": "code",
   "execution_count": 4,
   "metadata": {},
   "outputs": [],
   "source": [
    "from scripts.parsers.ParseResumeToJson import ParseResume\n",
    "from scripts.parsers.ParseJobDescToJson import ParseJobDesc\n",
    "from scripts.ReadPdf import read_single_pdf\n",
    "import os.path\n",
    "import pathlib\n",
    "import json\n",
    "\n",
    "\n",
    "\n",
    "READ_RESUME_FROM = 'Data/Resumes/'\n",
    "SAVE_DIRECTORY = 'Data/Processed/Resumes'\n",
    "\n",
    "\n",
    "def read_resumes(input_file: str) -> dict:\n",
    "    input_file_name = os.path.join(READ_RESUME_FROM+input_file)\n",
    "    data = read_single_pdf(input_file_name)\n",
    "    output = ParseResume(data).get_JSON()\n",
    "    return output\n",
    "\n",
    "\n",
    "def read_job_desc(input_file: str) -> dict:\n",
    "    input_file_name = os.path.join(READ_RESUME_FROM + input_file)\n",
    "    data = read_single_pdf(input_file_name)\n",
    "    output = ParseJobDesc(data).get_JSON()\n",
    "    return output\n",
    "\n",
    "def write_json_file(resume_dictionary: dict):\n",
    "    file_name = str(\"Resume-\" + resume_dictionary[\"unique_id\"] + \".json\")\n",
    "    save_directory_name = pathlib.Path(SAVE_DIRECTORY) / file_name\n",
    "    json_object = json.dumps(resume_dictionary, sort_keys=True, indent=14)\n",
    "    with open(save_directory_name, \"w+\") as outfile:\n",
    "        outfile.write(json_object)\n"
   ]
  },
  {
   "cell_type": "code",
   "execution_count": 5,
   "metadata": {},
   "outputs": [],
   "source": [
    "write_json_file(read_job_desc('job_desc_1.pdf'))"
   ]
  },
  {
   "cell_type": "code",
   "execution_count": null,
   "metadata": {},
   "outputs": [],
   "source": []
  }
 ],
 "metadata": {
  "kernelspec": {
   "display_name": "venv",
   "language": "python",
   "name": "python3"
  },
  "language_info": {
   "codemirror_mode": {
    "name": "ipython",
    "version": 3
   },
   "file_extension": ".py",
   "mimetype": "text/x-python",
   "name": "python",
   "nbconvert_exporter": "python",
   "pygments_lexer": "ipython3",
   "version": "3.10.6"
  },
  "orig_nbformat": 4
 },
 "nbformat": 4,
 "nbformat_minor": 2
}
